{
 "cells": [
  {
   "cell_type": "markdown",
   "id": "b3788227-721c-42cf-b5f9-5536f3d35646",
   "metadata": {},
   "source": [
    "<img src=\"https://cellstrat2.s3.amazonaws.com/PlatformAssets/bluewhitelogo.svg\" alt=\"drawing\" width=\"200\"/>\n",
    "\n",
    "# ML Tuesdays - Session 3\n",
    "## Machine Learning Track\n",
    "### Medical Insurace Cost Prediction Exercise\n",
    "\n",
    "### Guidelines\n",
    "1. The notebook has been split into multiple steps with fine-grained instructions for each step. Use the instructions for each code cell to complete the code.\n",
    "2. You can refer the Linear Regression Module in the Machine Learning Pack from CellStrat Hub.\n",
    "3. Make use of the docstrings of the functions and classes using the `shift+tab` shortcut key.\n",
    "4. Refer the internet for the explanation of any algorithm."
   ]
  },
  {
   "cell_type": "markdown",
   "id": "335a44b5-48a3-488e-bfb6-66259383cb88",
   "metadata": {
    "tags": []
   },
   "source": [
    "## About the Dataset\n",
    "\n",
    "The insurance.csv dataset contains 7 features (columns). The dataset contains 4 numerical features (age, bmi, children and charges) and 3 nominal features (sex, smoker and region) that were converted into factors with numerical value desginated for each level.\n",
    "\n",
    "The purposes of this exercise to look into different features to observe their relationship, and plot a multiple linear regression based on several features of individual such as age, physical/family condition and location against their existing medical expense to be used for predicting future medical expenses of individuals that help medical insurance to make decision on charging the premium.\n",
    "le (0 or 1)."
   ]
  },
  {
   "cell_type": "markdown",
   "id": "85d25553-a5a5-4203-8865-01531d8d847e",
   "metadata": {},
   "source": [
    "## Load dataset"
   ]
  },
  {
   "cell_type": "code",
   "execution_count": null,
   "id": "f779463e-5f4e-4e70-b65f-7fc03b7c25fe",
   "metadata": {},
   "outputs": [],
   "source": []
  },
  {
   "cell_type": "code",
   "execution_count": null,
   "id": "86f0cadf-06e6-4ba3-ad2f-511147f0252e",
   "metadata": {},
   "outputs": [],
   "source": []
  },
  {
   "cell_type": "markdown",
   "id": "6f6e0909-9bcc-4781-a7e0-3cf085ae1580",
   "metadata": {},
   "source": [
    "## Handling Categorical Data\n",
    "- Encode the categorical variables using `get_dummies()`"
   ]
  },
  {
   "cell_type": "code",
   "execution_count": null,
   "id": "c8b18f7d-da75-47e9-a709-9ad955b975b8",
   "metadata": {},
   "outputs": [],
   "source": [
    "#==============================================================================\n",
    "# Description of dataset (Categorical):\n",
    "#==============================================================================\n",
    "dataset.describe(include=['O'])"
   ]
  },
  {
   "cell_type": "markdown",
   "id": "bcefdfd0-c668-4937-a45e-013b35c652d9",
   "metadata": {},
   "source": [
    "Encode the categorical variables using `get_dummies()`"
   ]
  },
  {
   "cell_type": "code",
   "execution_count": null,
   "id": "5b1e1a01-f93e-413b-b6ee-0aaabfb35906",
   "metadata": {},
   "outputs": [],
   "source": []
  },
  {
   "cell_type": "code",
   "execution_count": null,
   "id": "310405fd-e935-4822-9c76-0b996d94e892",
   "metadata": {},
   "outputs": [],
   "source": [
    "#==============================================================================\n",
    "# Rearranging columns to see better\n",
    "#==============================================================================\n",
    "\n",
    "dataset = dataset[['age','sex_male','smoker_yes','bmi','children','region_northwest','region_southeast','region_southwest','charges']]\n",
    "#train_data.head(2)"
   ]
  },
  {
   "cell_type": "code",
   "execution_count": null,
   "id": "22f3f8f3-1b44-4482-9363-ccdf11761313",
   "metadata": {},
   "outputs": [],
   "source": [
    "#==============================================================================\n",
    "# Rounding up & down Age\n",
    "#==============================================================================\n",
    "\n",
    "dataset['age'] = round(dataset['age'])"
   ]
  },
  {
   "cell_type": "markdown",
   "id": "76b4fad2-3019-4dcd-a43c-89e74d94f527",
   "metadata": {},
   "source": [
    "## Data Preprocessing\n",
    "\n",
    "1. Split to X and y data\n",
    "2. Perform Train Test Split\n"
   ]
  },
  {
   "cell_type": "code",
   "execution_count": null,
   "id": "d73050a5-2e08-4467-a781-09a0ed606541",
   "metadata": {},
   "outputs": [],
   "source": []
  },
  {
   "cell_type": "code",
   "execution_count": null,
   "id": "e27e06b5-b44a-483a-820d-af38ceb5a042",
   "metadata": {},
   "outputs": [],
   "source": []
  },
  {
   "cell_type": "markdown",
   "id": "7b182cb7-177a-4480-b87c-913fe18ac3ef",
   "metadata": {},
   "source": [
    "## Training\n",
    "\n",
    "You need to train 4 different models i.e.,\n",
    "1. LogisticRegression\n",
    "2. Ridge Regression\n",
    "3. Lasso Regression\n",
    "2. Random Forest\n",
    "\n",
    "Make optimal use of the scikit-learn documentation and google to understand each algorithm and apply it."
   ]
  },
  {
   "cell_type": "markdown",
   "id": "63a42c70-4e4e-46f6-8e5a-47c8a280221e",
   "metadata": {},
   "source": [
    "Import Performance Metrics like mean_squared_error and r2_score"
   ]
  },
  {
   "cell_type": "code",
   "execution_count": null,
   "id": "0bc64f8b-140e-40c2-8761-72635a282054",
   "metadata": {},
   "outputs": [],
   "source": []
  },
  {
   "cell_type": "code",
   "execution_count": null,
   "id": "3ae37bce-5ea4-4346-8e71-f2525c2bb472",
   "metadata": {},
   "outputs": [],
   "source": []
  },
  {
   "cell_type": "markdown",
   "id": "ca35eda8-9b76-4a5e-90c7-14a3b4a88a41",
   "metadata": {},
   "source": [
    "## Save Model\n",
    "- Save the model using pickle"
   ]
  },
  {
   "cell_type": "code",
   "execution_count": null,
   "id": "dc39bb8a-4560-4f27-b268-833f3ff62c0b",
   "metadata": {},
   "outputs": [],
   "source": []
  },
  {
   "cell_type": "code",
   "execution_count": null,
   "id": "4ef715f8-d237-495b-9245-76d30ab3d4c3",
   "metadata": {},
   "outputs": [],
   "source": []
  },
  {
   "cell_type": "code",
   "execution_count": null,
   "id": "927b3c77-ec8f-4f6c-b280-4db9acf97090",
   "metadata": {},
   "outputs": [],
   "source": []
  }
 ],
 "metadata": {
  "kernelspec": {
   "display_name": "Python 3",
   "language": "python",
   "name": "python3"
  },
  "language_info": {
   "codemirror_mode": {
    "name": "ipython",
    "version": 3
   },
   "file_extension": ".py",
   "mimetype": "text/x-python",
   "name": "python",
   "nbconvert_exporter": "python",
   "pygments_lexer": "ipython3",
   "version": "3.8.8"
  },
  "widgets": {
   "application/vnd.jupyter.widget-state+json": {
    "state": {},
    "version_major": 2,
    "version_minor": 0
   }
  }
 },
 "nbformat": 4,
 "nbformat_minor": 5
}
