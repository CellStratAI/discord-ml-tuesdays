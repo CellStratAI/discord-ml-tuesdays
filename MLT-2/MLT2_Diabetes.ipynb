{
 "cells": [
  {
   "cell_type": "markdown",
   "id": "b3788227-721c-42cf-b5f9-5536f3d35646",
   "metadata": {},
   "source": [
    "<img src=\"https://cellstrat2.s3.amazonaws.com/PlatformAssets/bluewhitelogo.svg\" alt=\"drawing\" width=\"200\"/>\n",
    "\n",
    "# ML Tuesdays - Session 2\n",
    "## Machine Learning Track\n",
    "### Diabetes Classification Exercise\n",
    "\n",
    "### Guidelines\n",
    "1. The notebook has been split into multiple steps with fine-grained instructions for each step. Use the instructions for each code cell to complete the code.\n",
    "2. You can refer the Logistic Regression Module in the Machine Learning Pack from CellStrat Hub.\n",
    "3. Make use of the docstrings of the functions and classes using the `shift+tab` shortcut key.\n",
    "4. Refer the internet for the explanation of any algorithm."
   ]
  },
  {
   "cell_type": "markdown",
   "id": "335a44b5-48a3-488e-bfb6-66259383cb88",
   "metadata": {
    "tags": []
   },
   "source": [
    "## About the Dataset\n",
    "The Pima Indians Diabetes Dataset involves predicting the onset of diabetes within 5 years in Pima Indians given medical details.\n",
    "\n",
    "It is a binary (2-class) classification problem. The number of observations for each class is not balanced. There are 768 observations with 8 input variables and 1 output variable. Missing values are believed to be encoded with zero values. The variable names are as follows:\n",
    "\n",
    "- Number of times pregnant.\n",
    "- Plasma glucose concentration a 2 hours in an oral glucose tolerance test.\n",
    "- Diastolic blood pressure (mm Hg).\n",
    "- Triceps skinfold thickness (mm).\n",
    "- 2-Hour serum insulin (mu U/ml).\n",
    "- Body mass index (weight in kg/(height in m)^2).\n",
    "- Diabetes pedigree function.\n",
    "- Age (years).\n",
    "- Class variable (0 or 1)."
   ]
  },
  {
   "cell_type": "code",
   "execution_count": null,
   "id": "f779463e-5f4e-4e70-b65f-7fc03b7c25fe",
   "metadata": {},
   "outputs": [],
   "source": [
    "import pandas as pd"
   ]
  },
  {
   "cell_type": "code",
   "execution_count": null,
   "id": "86f0cadf-06e6-4ba3-ad2f-511147f0252e",
   "metadata": {},
   "outputs": [],
   "source": [
    "dataset = pd.read_csv('pima-indians-diabetes.csv')"
   ]
  },
  {
   "cell_type": "code",
   "execution_count": null,
   "id": "cfcd651c-b043-4504-92ea-d79489f823dc",
   "metadata": {},
   "outputs": [],
   "source": [
    "dataset"
   ]
  },
  {
   "cell_type": "markdown",
   "id": "76b4fad2-3019-4dcd-a43c-89e74d94f527",
   "metadata": {},
   "source": [
    "## Data Preprocessing\n",
    "\n",
    "1. Split to X and y data\n",
    "2. Perform Train Test Split\n",
    "3. Feature Scaling (Use Standard or Normalization)"
   ]
  },
  {
   "cell_type": "code",
   "execution_count": null,
   "id": "9090e527-7bb2-4dc6-a03f-6ef306d1fdb2",
   "metadata": {},
   "outputs": [],
   "source": []
  },
  {
   "cell_type": "markdown",
   "id": "5e825f0a-f715-47fa-93b0-5b10000566ff",
   "metadata": {
    "tags": []
   },
   "source": [
    "## Training\n",
    "\n",
    "You need to train 4 different models i.e.,\n",
    "1. LogisticRegression\n",
    "2. K Nearest Neighbours (KNN)\n",
    "3. Decision Tree\n",
    "4. Random Forest\n",
    "\n",
    "Make optimal use of the scikit-learn documentation and google to understand each algorithm and apply it."
   ]
  },
  {
   "cell_type": "code",
   "execution_count": null,
   "id": "30502cbc-b934-447c-a9dc-87ff0395f3ba",
   "metadata": {},
   "outputs": [],
   "source": []
  },
  {
   "cell_type": "markdown",
   "id": "679637a1-708c-4bff-9482-5a287b2b0ece",
   "metadata": {},
   "source": [
    "## Evaluation\n",
    "\n",
    "1. Evaluate the results of each model using the `classification_report` function in `sklearn.metrics`.\n",
    "2. Check which model has the best results on the train and test set.\n",
    "3. Have some models overfitted?"
   ]
  },
  {
   "cell_type": "code",
   "execution_count": null,
   "id": "4ef715f8-d237-495b-9245-76d30ab3d4c3",
   "metadata": {},
   "outputs": [],
   "source": []
  }
 ],
 "metadata": {
  "kernelspec": {
   "display_name": "Python 3",
   "language": "python",
   "name": "python3"
  },
  "language_info": {
   "codemirror_mode": {
    "name": "ipython",
    "version": 3
   },
   "file_extension": ".py",
   "mimetype": "text/x-python",
   "name": "python",
   "nbconvert_exporter": "python",
   "pygments_lexer": "ipython3",
   "version": "3.8.8"
  },
  "widgets": {
   "application/vnd.jupyter.widget-state+json": {
    "state": {},
    "version_major": 2,
    "version_minor": 0
   }
  }
 },
 "nbformat": 4,
 "nbformat_minor": 5
}
