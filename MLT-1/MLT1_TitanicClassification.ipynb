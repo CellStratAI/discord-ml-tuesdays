{
 "cells": [
  {
   "cell_type": "markdown",
   "id": "79a4781a-aa54-4209-a2ac-d3a081d7b479",
   "metadata": {},
   "source": [
    "<img src=\"https://cellstrat2.s3.amazonaws.com/PlatformAssets/bluewhitelogo.svg\" alt=\"drawing\" width=\"200\"/>\n",
    "\n",
    "# ML Tuesdays - Session 1\n",
    "## Titanic Survival Classification Exercise\n",
    "\n",
    "### General Guidelines\n",
    "1. The notebook has been split into multiple steps with fine-grained instructions for each step. Use the instructions for each code cell to complete the code.\n",
    "2. Some hints specify the function to be used but you need to figure out the arguments yourself in some using the docstring of the function which can be pulled up with `Shift+Tab`.\n",
    "\n",
    "### About the Titanic Dataset\n",
    "The sinking of the Titanic is one of the most infamous shipwrecks in history.\n",
    "\n",
    "On April 15, 1912, during her maiden voyage, the widely considered “unsinkable” RMS Titanic sank after colliding with an iceberg. Unfortunately, there weren’t enough lifeboats for everyone onboard, resulting in the death of 1502 out of 2224 passengers and crew.\n",
    "\n",
    "While there was some element of luck involved in surviving, it seems some groups of people were more likely to survive than others.\n",
    "\n",
    "In this challenge, we ask you to build a predictive model that answers the question: “what sorts of people were more likely to survive?” using passenger data (ie name, age, gender, socio-economic class, etc).\n",
    "\n",
    "Here's a description of the columns in the dataset:\n",
    "\n",
    "| Variable | Definition                                 | Key                                            |\n",
    "| -------- | ------------------------------------------ | ---------------------------------------------- |\n",
    "| survival | Survival                                   | 0 = No, 1 = Yes                                |\n",
    "| pclass   | Ticket class                               | 1 = 1st, 2 = 2nd, 3 = 3rd                      |\n",
    "| sex      | Sex                                        |\n",
    "| Age      | Age in years                               |\n",
    "| sibsp    | # of siblings / spouses aboard the Titanic |\n",
    "| parch    | # of parents / children aboard the Titanic |\n",
    "| ticket   | Ticket number                              |\n",
    "| fare     | Passenger fare                             |\n",
    "| cabin    | Cabin number                               |\n",
    "| embarked | Port of Embarkation                        | C = Cherbourg, Q = Queenstown, S = Southampton |\n",
    "[Dataset Source](https://www.kaggle.com/c/titanic/overview)"
   ]
  },
  {
   "cell_type": "code",
   "execution_count": 187,
   "id": "8789eed4-8cac-4206-a87a-212a89851cbb",
   "metadata": {},
   "outputs": [],
   "source": [
    "import pandas as pd\n",
    "import numpy as np"
   ]
  },
  {
   "cell_type": "markdown",
   "id": "a35343fc-c2c1-4718-81e3-6d36978f0204",
   "metadata": {},
   "source": [
    "## Data Preprocessing\n",
    "\n",
    "1. Load Data\n",
    "2. Remove Irrelevant Columns\n",
    "3. Split to X and y data\n",
    "4. Handling Missing Values\n",
    "5. Encode the Categorical Variables\n",
    "6. Perform Train Test Split\n",
    "7. Feature Scaling"
   ]
  },
  {
   "cell_type": "markdown",
   "id": "d9270f5d-49c9-4d67-831d-bc18349533a4",
   "metadata": {
    "tags": []
   },
   "source": [
    "### Load Data\n",
    "Read the dataset with `index_col` as \"PassengerId\""
   ]
  },
  {
   "cell_type": "code",
   "execution_count": null,
   "id": "757dd411-2dfa-4a43-9d7e-fa167619520d",
   "metadata": {},
   "outputs": [],
   "source": []
  },
  {
   "cell_type": "markdown",
   "id": "15c6b9bc-1c60-4538-bced-fb01ca05dfde",
   "metadata": {
    "tags": []
   },
   "source": [
    "### Remove Irrelevant Columns\n",
    "Look for columns which are either subjective or not relevant for predicting the survivability and then remove them using the `drop()` function."
   ]
  },
  {
   "cell_type": "code",
   "execution_count": null,
   "id": "b1fd66ae-9d80-4774-967d-335b973a6b73",
   "metadata": {},
   "outputs": [],
   "source": []
  },
  {
   "cell_type": "markdown",
   "id": "d95dbe02-9d9b-4be9-b494-ba2fa080fbb0",
   "metadata": {},
   "source": [
    "### Handle Missing Data"
   ]
  },
  {
   "cell_type": "markdown",
   "id": "06afa07b-f71b-4f40-9adc-8d6d5a307848",
   "metadata": {},
   "source": [
    "Check the number of NaN values"
   ]
  },
  {
   "cell_type": "code",
   "execution_count": null,
   "id": "3bd18168-d2cd-483c-bdc3-404da696ac69",
   "metadata": {},
   "outputs": [],
   "source": []
  },
  {
   "cell_type": "markdown",
   "id": "6dbd1ff4-7762-440f-9d92-b6b83c59c3c8",
   "metadata": {},
   "source": [
    "Drop any rows where the number of NaNs in a column is insignificant. Use the `subset` argument to specify a list of columns according to which the rows should be dropped."
   ]
  },
  {
   "cell_type": "code",
   "execution_count": 149,
   "id": "6e60d7fe-c14d-4d6c-8d49-f8054cdcccaf",
   "metadata": {},
   "outputs": [],
   "source": [
    "from sklearn.impute import SimpleImputer"
   ]
  },
  {
   "cell_type": "code",
   "execution_count": 150,
   "id": "1d8460f9-dac8-49d2-afa2-c7c8ed27872e",
   "metadata": {},
   "outputs": [],
   "source": []
  },
  {
   "cell_type": "markdown",
   "id": "72fbcbfc-27d3-4fb3-a51d-0eefd37a726d",
   "metadata": {
    "tags": []
   },
   "source": [
    "### Split into X and Y Data\n",
    "Separate the features from the labels in two variables `X_data` and `y_data`"
   ]
  },
  {
   "cell_type": "code",
   "execution_count": null,
   "id": "80f2fd15-01de-477e-9955-530d045cf05f",
   "metadata": {},
   "outputs": [],
   "source": []
  },
  {
   "cell_type": "markdown",
   "id": "9bfcabf7-0d42-4fe8-847c-0f86e19df756",
   "metadata": {},
   "source": [
    "### Encode Categorical Features\n",
    "\n",
    "LabelEncode the binary features and OneHotEncode the ones that have multiple categories"
   ]
  },
  {
   "cell_type": "code",
   "execution_count": 155,
   "id": "33fb54c4-b62f-4fb8-87b4-a97056822bbc",
   "metadata": {},
   "outputs": [],
   "source": [
    "from sklearn.preprocessing import LabelEncoder"
   ]
  },
  {
   "cell_type": "code",
   "execution_count": null,
   "id": "170375c7-df64-43c8-b912-777fb6a2af78",
   "metadata": {},
   "outputs": [],
   "source": []
  },
  {
   "cell_type": "markdown",
   "id": "2fa3d092-7e3c-4769-8013-5c2bb5a2b404",
   "metadata": {},
   "source": [
    "OneHotEncode the multi-class categorical variables"
   ]
  },
  {
   "cell_type": "code",
   "execution_count": 160,
   "id": "693366df-1c58-4be9-ad91-40bb5fcfb48e",
   "metadata": {},
   "outputs": [],
   "source": [
    "from sklearn.preprocessing import OneHotEncoder\n",
    "from sklearn.compose import ColumnTransformer"
   ]
  },
  {
   "cell_type": "code",
   "execution_count": null,
   "id": "93fb0404-e8c7-4ea7-a344-2fa07f174e97",
   "metadata": {},
   "outputs": [],
   "source": []
  },
  {
   "cell_type": "markdown",
   "id": "8aca7875-a049-4124-918c-027077505575",
   "metadata": {
    "tags": []
   },
   "source": [
    "### Train Test Split"
   ]
  },
  {
   "cell_type": "code",
   "execution_count": 166,
   "id": "d62bbf9e-9ba2-4af1-aebc-5a215691bdd3",
   "metadata": {},
   "outputs": [],
   "source": [
    "from sklearn.model_selection import train_test_split"
   ]
  },
  {
   "cell_type": "code",
   "execution_count": null,
   "id": "23931344-b299-4203-a60c-df244f782d9a",
   "metadata": {},
   "outputs": [],
   "source": []
  },
  {
   "cell_type": "markdown",
   "id": "d4ad6dcc-4147-40fa-a2d2-465626061fd7",
   "metadata": {},
   "source": [
    "### Feature Scaling\n",
    "Standard Scale the features which are continous in nature and require scaling"
   ]
  },
  {
   "cell_type": "code",
   "execution_count": 127,
   "id": "95f60464-52ce-425f-a83d-a1fb95f907ed",
   "metadata": {},
   "outputs": [],
   "source": [
    "from sklearn.preprocessing import StandardScaler"
   ]
  },
  {
   "cell_type": "code",
   "execution_count": null,
   "id": "b933b900-e0a0-41fb-98dc-d16fdaf3ff75",
   "metadata": {},
   "outputs": [],
   "source": []
  },
  {
   "cell_type": "markdown",
   "id": "499fcd32-150a-4855-9846-b899321b6335",
   "metadata": {},
   "source": [
    "## Train and Evaluate\n",
    "1. Train a LogisticRegression Model\n",
    "2. Evaluate on the Test split and report the classification report"
   ]
  },
  {
   "cell_type": "code",
   "execution_count": 178,
   "id": "2d85bbec-36bf-4eb5-b1be-719f3ae18d73",
   "metadata": {},
   "outputs": [],
   "source": [
    "from sklearn.linear_model import LogisticRegression\n",
    "from sklearn.metrics import accuracy_score, classification_report"
   ]
  },
  {
   "cell_type": "markdown",
   "id": "c0ba498d-6841-4f37-872e-12486f8cf2aa",
   "metadata": {},
   "source": [
    "Build and Fit the model"
   ]
  },
  {
   "cell_type": "code",
   "execution_count": null,
   "id": "067af84f-7046-4460-93cd-26e48fbbeae8",
   "metadata": {},
   "outputs": [],
   "source": []
  },
  {
   "cell_type": "markdown",
   "id": "9ff6c520-e3d4-4db3-9533-7712b48cae3a",
   "metadata": {},
   "source": [
    "Make predictions on both train and test split"
   ]
  },
  {
   "cell_type": "code",
   "execution_count": null,
   "id": "e05a2de3-dc55-43cd-92fa-073517034942",
   "metadata": {},
   "outputs": [],
   "source": []
  },
  {
   "cell_type": "markdown",
   "id": "97c87bcc-f93c-4622-9b15-b606acb7199e",
   "metadata": {},
   "source": [
    "Check the train and test accuracy"
   ]
  },
  {
   "cell_type": "code",
   "execution_count": null,
   "id": "4b3af3b4-5530-4bce-8104-dd57ed6d5e06",
   "metadata": {},
   "outputs": [],
   "source": []
  },
  {
   "cell_type": "markdown",
   "id": "dc75643a-4cdf-468b-9940-60149d958a7d",
   "metadata": {},
   "source": [
    "Print out the test classification report with details of precision, recall and f1"
   ]
  },
  {
   "cell_type": "code",
   "execution_count": null,
   "id": "48b59ccf-f383-4f7b-a6e1-209843652e7c",
   "metadata": {},
   "outputs": [],
   "source": []
  },
  {
   "cell_type": "markdown",
   "id": "840ce8a3-a4e1-495f-8e19-dcc340d16c58",
   "metadata": {},
   "source": [
    "### Hurray! You have successfully completed the ML Exercise in the first ML Tuesday (Monday)"
   ]
  }
 ],
 "metadata": {
  "kernelspec": {
   "display_name": "Python 3",
   "language": "python",
   "name": "python3"
  },
  "language_info": {
   "codemirror_mode": {
    "name": "ipython",
    "version": 3
   },
   "file_extension": ".py",
   "mimetype": "text/x-python",
   "name": "python",
   "nbconvert_exporter": "python",
   "pygments_lexer": "ipython3",
   "version": "3.8.8"
  },
  "widgets": {
   "application/vnd.jupyter.widget-state+json": {
    "state": {},
    "version_major": 2,
    "version_minor": 0
   }
  }
 },
 "nbformat": 4,
 "nbformat_minor": 5
}
